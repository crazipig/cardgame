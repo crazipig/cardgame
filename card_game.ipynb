{
 "cells": [
  {
   "cell_type": "code",
   "execution_count": 1,
   "metadata": {},
   "outputs": [],
   "source": [
    "import numpy as np"
   ]
  },
  {
   "cell_type": "code",
   "execution_count": 2,
   "metadata": {},
   "outputs": [
    {
     "name": "stdout",
     "output_type": "stream",
     "text": [
      "輸入第 1 張牌的點數(2-10, J, Q, K, A): 1\n",
      "輸入第 1 張牌的花色（♥, ♦, ♣, ♠）: ♦\n",
      "輸入第 2 張牌的點數(2-10, J, Q, K, A): 3\n",
      "輸入第 2 張牌的花色（♥, ♦, ♣, ♠）: ♦\n",
      "輸入第 3 張牌的點數(2-10, J, Q, K, A): 2\n",
      "輸入第 3 張牌的花色（♥, ♦, ♣, ♠）: ♣\n",
      "輸入第 4 張牌的點數(2-10, J, Q, K, A): 3\n",
      "輸入第 4 張牌的花色（♥, ♦, ♣, ♠）: ♣\n",
      "輸入第 5 張牌的點數(2-10, J, Q, K, A): 4\n",
      "輸入第 5 張牌的花色（♥, ♦, ♣, ♠）: ♣\n",
      "[('1', '♦'), ('3', '♦'), ('2', '♣'), ('3', '♣'), ('4', '♣')]\n"
     ]
    }
   ],
   "source": [
    "hand = []\n",
    "for i in range(5):\n",
    "    face = input(f'輸入第 {i+1} 張牌的點數(2-10, J, Q, K, A): ')\n",
    "    suit = input(f'輸入第 {i+1} 張牌的花色（♥, ♦, ♣, ♠）: ')\n",
    "    hand.append((face, suit))\n",
    "print(hand)\n",
    "\n",
    "FACES = ['A', '2', '3', '4', '5', '6', '7', '8', '9', '10', 'J', 'Q', 'K']    # 定義撲克牌的點數\n",
    "SUITS = ['♥', '♦', '♣', '♠']     # 定義撲克牌的花色"
   ]
  },
  {
   "cell_type": "code",
   "execution_count": 3,
   "metadata": {},
   "outputs": [],
   "source": [
    "hand = [('3', '♠'), ('J', '♥'), ('A', '♠'), ('6', '♦'), ('7', '♥')]"
   ]
  },
  {
   "cell_type": "code",
   "execution_count": 4,
   "metadata": {},
   "outputs": [
    {
     "data": {
      "text/plain": [
       "('3', '♠')"
      ]
     },
     "execution_count": 4,
     "metadata": {},
     "output_type": "execute_result"
    }
   ],
   "source": [
    "hand[0]"
   ]
  },
  {
   "cell_type": "code",
   "execution_count": 5,
   "metadata": {},
   "outputs": [
    {
     "data": {
      "text/plain": [
       "tuple"
      ]
     },
     "execution_count": 5,
     "metadata": {},
     "output_type": "execute_result"
    }
   ],
   "source": [
    "type(hand[0])"
   ]
  },
  {
   "cell_type": "code",
   "execution_count": 6,
   "metadata": {},
   "outputs": [
    {
     "data": {
      "text/plain": [
       "'♠'"
      ]
     },
     "execution_count": 6,
     "metadata": {},
     "output_type": "execute_result"
    }
   ],
   "source": [
    "hand[0][1]"
   ]
  },
  {
   "cell_type": "code",
   "execution_count": 7,
   "metadata": {},
   "outputs": [
    {
     "name": "stdout",
     "output_type": "stream",
     "text": [
      "5\n",
      "2\n"
     ]
    }
   ],
   "source": [
    "print(len(hand))\n",
    "print(len(hand[2]))"
   ]
  },
  {
   "cell_type": "code",
   "execution_count": 8,
   "metadata": {},
   "outputs": [
    {
     "data": {
      "text/plain": [
       "['♠', '♥', '♠', '♦', '♥']"
      ]
     },
     "execution_count": 8,
     "metadata": {},
     "output_type": "execute_result"
    }
   ],
   "source": [
    "suits = []\n",
    "for card in hand:\n",
    "    suits.append(card[1])\n",
    "\n",
    "suits"
   ]
  },
  {
   "cell_type": "code",
   "execution_count": 9,
   "metadata": {},
   "outputs": [
    {
     "data": {
      "text/plain": [
       "['♠', '♥', '♠', '♦', '♥']"
      ]
     },
     "execution_count": 9,
     "metadata": {},
     "output_type": "execute_result"
    }
   ],
   "source": [
    "suits = [card[1] for card in hand]\n",
    "suits"
   ]
  },
  {
   "cell_type": "code",
   "execution_count": 10,
   "metadata": {},
   "outputs": [
    {
     "data": {
      "text/plain": [
       "list"
      ]
     },
     "execution_count": 10,
     "metadata": {},
     "output_type": "execute_result"
    }
   ],
   "source": [
    "type(suits)"
   ]
  },
  {
   "cell_type": "code",
   "execution_count": 11,
   "metadata": {},
   "outputs": [
    {
     "data": {
      "text/plain": [
       "{'♠', '♥', '♦'}"
      ]
     },
     "execution_count": 11,
     "metadata": {},
     "output_type": "execute_result"
    }
   ],
   "source": [
    "# set: 元素值不會重複(重複會拿掉)\n",
    "set(suits)"
   ]
  },
  {
   "cell_type": "code",
   "execution_count": 12,
   "metadata": {},
   "outputs": [],
   "source": [
    "if len(set(suits)) == 1:\n",
    "    print(\"花相同\")"
   ]
  },
  {
   "cell_type": "code",
   "execution_count": 13,
   "metadata": {},
   "outputs": [
    {
     "data": {
      "text/plain": [
       "4"
      ]
     },
     "execution_count": 13,
     "metadata": {},
     "output_type": "execute_result"
    }
   ],
   "source": [
    "FACES.index('5')"
   ]
  },
  {
   "cell_type": "code",
   "execution_count": 14,
   "metadata": {},
   "outputs": [
    {
     "data": {
      "text/plain": [
       "['3', 'J', 'A', '6', '7']"
      ]
     },
     "execution_count": 14,
     "metadata": {},
     "output_type": "execute_result"
    }
   ],
   "source": [
    "faces = [card[0] for card in hand]\n",
    "faces"
   ]
  },
  {
   "cell_type": "code",
   "execution_count": 15,
   "metadata": {},
   "outputs": [
    {
     "data": {
      "text/plain": [
       "['3', '6', '7', 'A', 'J']"
      ]
     },
     "execution_count": 15,
     "metadata": {},
     "output_type": "execute_result"
    }
   ],
   "source": [
    "faces.sort()\n",
    "faces"
   ]
  },
  {
   "cell_type": "code",
   "execution_count": 16,
   "metadata": {},
   "outputs": [
    {
     "data": {
      "text/plain": [
       "['A', '3', '6', '7', 'J']"
      ]
     },
     "execution_count": 16,
     "metadata": {},
     "output_type": "execute_result"
    }
   ],
   "source": [
    "faces.sort(key=lambda x: FACES.index(x))\n",
    "faces"
   ]
  },
  {
   "cell_type": "code",
   "execution_count": 17,
   "metadata": {},
   "outputs": [
    {
     "name": "stdout",
     "output_type": "stream",
     "text": [
      "順\n"
     ]
    }
   ],
   "source": [
    "if FACES.index(faces[1]) - FACES.index(faces[0]) == 1:\n",
    "    print('順')\n",
    "\n",
    "if FACES.index(faces[2]) - FACES.index(faces[1]) == 1:\n",
    "    print('順')\n",
    "\n",
    "if FACES.index(faces[3]) - FACES.index(faces[2]) == 1:\n",
    "    print('順')\n",
    "\n",
    "if FACES.index(faces[4]) - FACES.index(faces[3]) == 1:\n",
    "    print('順')"
   ]
  },
  {
   "cell_type": "code",
   "execution_count": 18,
   "metadata": {},
   "outputs": [
    {
     "name": "stdout",
     "output_type": "stream",
     "text": [
      "不順\n"
     ]
    }
   ],
   "source": [
    "for index in range((len(hand)-1)):\n",
    "    if FACES.index(faces[index+1]) - FACES.index(faces[index]) != 1:\n",
    "        print('不順')\n",
    "        break"
   ]
  },
  {
   "cell_type": "code",
   "execution_count": 19,
   "metadata": {},
   "outputs": [
    {
     "data": {
      "text/plain": [
       "[('3', '♠'), ('J', '♥'), ('A', '♠'), ('6', '♦'), ('7', '♥')]"
      ]
     },
     "execution_count": 19,
     "metadata": {},
     "output_type": "execute_result"
    }
   ],
   "source": [
    "hand"
   ]
  },
  {
   "cell_type": "code",
   "execution_count": 20,
   "metadata": {},
   "outputs": [
    {
     "name": "stdout",
     "output_type": "stream",
     "text": [
      "['3' '6' '7' 'A' 'J']\n",
      "[1 1 1 1 1]\n"
     ]
    }
   ],
   "source": [
    "faces, counts = np.unique(faces, return_counts=True)\n",
    "print(faces)\n",
    "print(counts)"
   ]
  },
  {
   "cell_type": "code",
   "execution_count": 21,
   "metadata": {},
   "outputs": [
    {
     "data": {
      "text/plain": [
       "[]"
      ]
     },
     "execution_count": 21,
     "metadata": {},
     "output_type": "execute_result"
    }
   ],
   "source": [
    "test = [count for count in counts if count == 4]\n",
    "test"
   ]
  },
  {
   "cell_type": "code",
   "execution_count": 22,
   "metadata": {},
   "outputs": [],
   "source": [
    "def is_straight(hand):      # 返回一個布林值，指示手牌是否包含順子\n",
    "    faces = [card[0] for card in hand]    # 提取手牌中所有的點數，建立一個點數列表\n",
    "    faces.sort(key=lambda x: FACES.index(x))   # 將點數列表按照撲克牌點數的大小進行排序\n",
    "    \n",
    "    for i in range(len(faces) - 1):    # 每次迴圈中，比較相鄰的兩個點數是否相連\n",
    "        if FACES.index(faces[i + 1]) - FACES.index(faces[i]) != 1:   # 檢查相鄰兩個點數的差是否為 1\n",
    "            return False\n",
    "    return True"
   ]
  },
  {
   "cell_type": "code",
   "execution_count": 23,
   "metadata": {},
   "outputs": [],
   "source": [
    "def is_flush(hand):     # 返回一個布林值，指示手牌是否包含同花\n",
    "    suits = [card[1] for card in hand]    # 從手牌中提取所有的花色，建立了一個花色列表\n",
    "    return len(set(suits)) == 1    # 判斷花色手牌中是否只有一種花色，是回傳True，否則回傳False"
   ]
  },
  {
   "cell_type": "code",
   "execution_count": 24,
   "metadata": {},
   "outputs": [],
   "source": [
    "def is_four_of_a_kind(hand):     # 返回一個布林值，指示手牌是否包含四條\n",
    "    faces, counts = np.unique([card[0] for card in hand], return_counts=True)   #  np.unique()：去除重複的數字\n",
    "    # #  計算手牌中每種點數出現的次數，並返回點數列表和對應的出現次數\n",
    "    # four_of_a_kind = len([count for count in counts if count == 4])   # 計算出現4次的點數，即是否有四條\n",
    "    # return four_of_a_kind == 1      # 如果有且僅有一個四條，回傳True，否則回傳False\n",
    "    for count in counts:\n",
    "        if count == 4:\n",
    "            return True"
   ]
  },
  {
   "cell_type": "code",
   "execution_count": 25,
   "metadata": {},
   "outputs": [
    {
     "name": "stdout",
     "output_type": "stream",
     "text": [
      "不是同花順、四條或同花\n"
     ]
    }
   ],
   "source": [
    "if is_flush(hand) and is_straight(hand) :\n",
    "    print('同花順')\n",
    "elif is_four_of_a_kind(hand):\n",
    "    print('四條')\n",
    "elif is_flush(hand):\n",
    "    print('同花')\n",
    "else :\n",
    "    print('不是同花順、四條或同花')"
   ]
  },
  {
   "cell_type": "code",
   "execution_count": null,
   "metadata": {},
   "outputs": [],
   "source": []
  }
 ],
 "metadata": {
  "kernelspec": {
   "display_name": "Python 3",
   "language": "python",
   "name": "python3"
  },
  "language_info": {
   "codemirror_mode": {
    "name": "ipython",
    "version": 3
   },
   "file_extension": ".py",
   "mimetype": "text/x-python",
   "name": "python",
   "nbconvert_exporter": "python",
   "pygments_lexer": "ipython3",
   "version": "3.8.8"
  }
 },
 "nbformat": 4,
 "nbformat_minor": 2
}
